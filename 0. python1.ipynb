{
 "cells": [
  {
   "cell_type": "code",
   "execution_count": 1,
   "id": "03aef5d5-b84b-40d8-a4f8-c5c15111ee06",
   "metadata": {},
   "outputs": [
    {
     "data": {
      "text/plain": [
       "2"
      ]
     },
     "execution_count": 1,
     "metadata": {},
     "output_type": "execute_result"
    }
   ],
   "source": [
    "1+1"
   ]
  },
  {
   "cell_type": "code",
   "execution_count": 2,
   "id": "43861c38-64cc-4779-b3b7-04e14646bffc",
   "metadata": {},
   "outputs": [],
   "source": [
    "name = \"Kwon Se Hyun\""
   ]
  },
  {
   "cell_type": "code",
   "execution_count": 3,
   "id": "b5678f1a-5556-40c7-9804-1d1b6ef3a570",
   "metadata": {},
   "outputs": [
    {
     "data": {
      "text/plain": [
       "'Kwon Se Hyun'"
      ]
     },
     "execution_count": 3,
     "metadata": {},
     "output_type": "execute_result"
    }
   ],
   "source": [
    "name"
   ]
  },
  {
   "cell_type": "markdown",
   "id": "a05894e6-8df5-4ec1-80df-b7a2f6b99e15",
   "metadata": {},
   "source": [
    "## 자료형\n",
    "\n",
    "- 자료형이란 프로그래밍에서 쓰이는 자료의 형태\n",
    "- 자료형의 종류로는 숫자형, 문자열, 리스트, 튜플, 딕셔너리 등이 있다.\n",
    "\n",
    "### 1. 숫자형\n",
    "- 숫자형이란 숫자의 형태로 이루어진 자료형, 수치를 나타내는 자료형\n",
    "- 숫자형 변수는 크게 int형과 float 형이 존재.\n",
    "- int형은 정수, float형은 실수를 나타냄"
   ]
  },
  {
   "cell_type": "code",
   "execution_count": 4,
   "id": "b2fe0799-2f6a-4e84-a30b-d8fd7ffa7809",
   "metadata": {},
   "outputs": [],
   "source": [
    "number1 = 12345"
   ]
  },
  {
   "cell_type": "code",
   "execution_count": 5,
   "id": "7ff473d5-8ab3-4fc7-b0b8-486f9831d36a",
   "metadata": {},
   "outputs": [
    {
     "data": {
      "text/plain": [
       "int"
      ]
     },
     "execution_count": 5,
     "metadata": {},
     "output_type": "execute_result"
    }
   ],
   "source": [
    "type(number1)"
   ]
  },
  {
   "cell_type": "code",
   "execution_count": 6,
   "id": "98fedffd-3bc4-4772-8b18-7934413e7a62",
   "metadata": {},
   "outputs": [],
   "source": [
    "number2 = 123.456"
   ]
  },
  {
   "cell_type": "code",
   "execution_count": 7,
   "id": "9704b219-1066-4191-afe2-5856b5ff59ce",
   "metadata": {},
   "outputs": [
    {
     "data": {
      "text/plain": [
       "float"
      ]
     },
     "execution_count": 7,
     "metadata": {},
     "output_type": "execute_result"
    }
   ],
   "source": [
    "type(number2)"
   ]
  },
  {
   "cell_type": "code",
   "execution_count": 8,
   "id": "8702e334-94da-485d-8dc7-54756c373527",
   "metadata": {},
   "outputs": [
    {
     "data": {
      "text/plain": [
       "int"
      ]
     },
     "execution_count": 8,
     "metadata": {},
     "output_type": "execute_result"
    }
   ],
   "source": [
    "type(1234)"
   ]
  },
  {
   "cell_type": "code",
   "execution_count": 9,
   "id": "f2c23275-2b78-4b4a-8ad2-754a95d068a6",
   "metadata": {},
   "outputs": [
    {
     "data": {
      "text/plain": [
       "float"
      ]
     },
     "execution_count": 9,
     "metadata": {},
     "output_type": "execute_result"
    }
   ],
   "source": [
    "type(12345.6534)"
   ]
  },
  {
   "cell_type": "code",
   "execution_count": 10,
   "id": "5b91a603-daba-4e0d-8775-454e66a61e2c",
   "metadata": {},
   "outputs": [],
   "source": [
    "number5 = 0.0"
   ]
  },
  {
   "cell_type": "code",
   "execution_count": 11,
   "id": "d41fb8ad-9fee-48d3-9013-d2f06c159ef8",
   "metadata": {},
   "outputs": [
    {
     "data": {
      "text/plain": [
       "float"
      ]
     },
     "execution_count": 11,
     "metadata": {},
     "output_type": "execute_result"
    }
   ],
   "source": [
    "type(number5)"
   ]
  },
  {
   "cell_type": "code",
   "execution_count": 12,
   "id": "c659c70e-f53f-40e6-b1e0-2bdc4c5894f8",
   "metadata": {},
   "outputs": [
    {
     "data": {
      "text/plain": [
       "True"
      ]
     },
     "execution_count": 12,
     "metadata": {},
     "output_type": "execute_result"
    }
   ],
   "source": [
    "0.0 == 0"
   ]
  },
  {
   "cell_type": "markdown",
   "id": "292a17bf-7648-4bd6-a470-bd5e828e9826",
   "metadata": {},
   "source": [
    "## 형변환"
   ]
  },
  {
   "cell_type": "code",
   "execution_count": 13,
   "id": "330b08dc-f692-4ae9-9fc1-06996de3135e",
   "metadata": {},
   "outputs": [
    {
     "data": {
      "text/plain": [
       "0.0"
      ]
     },
     "execution_count": 13,
     "metadata": {},
     "output_type": "execute_result"
    }
   ],
   "source": [
    "number5"
   ]
  },
  {
   "cell_type": "code",
   "execution_count": 14,
   "id": "5395b575-7334-49d0-a24d-0d4e54f63417",
   "metadata": {},
   "outputs": [
    {
     "data": {
      "text/plain": [
       "float"
      ]
     },
     "execution_count": 14,
     "metadata": {},
     "output_type": "execute_result"
    }
   ],
   "source": [
    "type(number5)"
   ]
  },
  {
   "cell_type": "code",
   "execution_count": 15,
   "id": "9ea9bdb4-9499-44d6-8c27-706a54fac8c9",
   "metadata": {},
   "outputs": [
    {
     "data": {
      "text/plain": [
       "int"
      ]
     },
     "execution_count": 15,
     "metadata": {},
     "output_type": "execute_result"
    }
   ],
   "source": [
    "type(int(number5))"
   ]
  },
  {
   "cell_type": "code",
   "execution_count": 16,
   "id": "fd2a6ade-c373-44b8-bc29-accaee3e4768",
   "metadata": {},
   "outputs": [
    {
     "data": {
      "text/plain": [
       "0.0"
      ]
     },
     "execution_count": 16,
     "metadata": {},
     "output_type": "execute_result"
    }
   ],
   "source": [
    "number5"
   ]
  },
  {
   "cell_type": "code",
   "execution_count": 17,
   "id": "1aacb885-bcef-4b37-9813-4b080283c86e",
   "metadata": {},
   "outputs": [],
   "source": [
    "number5 = int(number5)"
   ]
  },
  {
   "cell_type": "code",
   "execution_count": 18,
   "id": "3e6b436e-8be9-4e19-a5eb-3ba7dcd4cd08",
   "metadata": {},
   "outputs": [
    {
     "data": {
      "text/plain": [
       "int"
      ]
     },
     "execution_count": 18,
     "metadata": {},
     "output_type": "execute_result"
    }
   ],
   "source": [
    "type(number5)"
   ]
  },
  {
   "cell_type": "code",
   "execution_count": 26,
   "id": "a3087af9-0240-4ce6-9efd-f3a5402c87e5",
   "metadata": {},
   "outputs": [
    {
     "data": {
      "text/plain": [
       "71.8"
      ]
     },
     "execution_count": 26,
     "metadata": {},
     "output_type": "execute_result"
    }
   ],
   "source": [
    "(57 + 84 + 93 + 58 + 67) / 5"
   ]
  },
  {
   "cell_type": "code",
   "execution_count": 20,
   "id": "5d40d8f4-fb71-41a8-ac93-f5789de0bbc7",
   "metadata": {},
   "outputs": [
    {
     "data": {
      "text/plain": [
       "86475.51666666666"
      ]
     },
     "execution_count": 20,
     "metadata": {},
     "output_type": "execute_result"
    }
   ],
   "source": [
    "5188531 / 60"
   ]
  },
  {
   "cell_type": "code",
   "execution_count": 21,
   "id": "545dbe3c-8a2c-4e2f-8392-a7e1bf34b6a8",
   "metadata": {},
   "outputs": [
    {
     "data": {
      "text/plain": [
       "86475"
      ]
     },
     "execution_count": 21,
     "metadata": {},
     "output_type": "execute_result"
    }
   ],
   "source": [
    "5188531 // 60"
   ]
  },
  {
   "cell_type": "code",
   "execution_count": 24,
   "id": "b63f87ff-bce2-40dc-8333-7f48b081b6f4",
   "metadata": {},
   "outputs": [
    {
     "name": "stdout",
     "output_type": "stream",
     "text": [
      "1441 시간 15 분 31 초\n"
     ]
    }
   ],
   "source": [
    "print(86475//60,\"시간\", 86475%60,\"분\" , 5188531 % 60,\"초\")"
   ]
  },
  {
   "cell_type": "code",
   "execution_count": 25,
   "id": "8943953f-fbf2-47ab-a657-2ea69e7f8173",
   "metadata": {},
   "outputs": [
    {
     "data": {
      "text/plain": [
       "(181092942889747057356671886482, 2)"
      ]
     },
     "execution_count": 25,
     "metadata": {},
     "output_type": "execute_result"
    }
   ],
   "source": [
    "2**100 // 7, 2**100 % 7"
   ]
  },
  {
   "cell_type": "markdown",
   "id": "5689d001-94e5-4e93-927b-aa3af3bc414b",
   "metadata": {},
   "source": [
    "### 2. 문자열\n",
    "\n",
    "- 문자열(string)이란 문자, 단어 등으로 구성된 문자들의 집합을 의미.\n",
    "- 숫자형도 문자열로 나타낼 수 있음.\n",
    "- \" 혹은 ' 안에 있으면 모두 문자열"
   ]
  },
  {
   "cell_type": "markdown",
   "id": "144aeccc-d8d9-4fe4-904f-a2aa691e65f0",
   "metadata": {},
   "source": [
    "#### 문자열 안에 따옴표를 넣고 싶다면?"
   ]
  },
  {
   "cell_type": "code",
   "execution_count": 27,
   "id": "b025d465-34ac-48bf-9186-e819d2be2355",
   "metadata": {},
   "outputs": [
    {
     "data": {
      "text/plain": [
       "\"He's name is sehyun\""
      ]
     },
     "execution_count": 27,
     "metadata": {},
     "output_type": "execute_result"
    }
   ],
   "source": [
    "\"He's name is sehyun\""
   ]
  },
  {
   "cell_type": "code",
   "execution_count": 28,
   "id": "8c59d360-a803-4941-9245-0721666b95e0",
   "metadata": {},
   "outputs": [
    {
     "data": {
      "text/plain": [
       "'He\"s name is sehyun'"
      ]
     },
     "execution_count": 28,
     "metadata": {},
     "output_type": "execute_result"
    }
   ],
   "source": [
    "'He\"s name is sehyun'"
   ]
  },
  {
   "cell_type": "code",
   "execution_count": 29,
   "id": "893bcc72-5041-4477-9ce5-cc8a81f0574f",
   "metadata": {},
   "outputs": [
    {
     "data": {
      "text/plain": [
       "\"he's name is sehyun\""
      ]
     },
     "execution_count": 29,
     "metadata": {},
     "output_type": "execute_result"
    }
   ],
   "source": [
    "'he\\'s name is sehyun'"
   ]
  },
  {
   "cell_type": "markdown",
   "id": "1e42ce05-f15b-4c35-ad35-751f56c35d57",
   "metadata": {},
   "source": [
    "#### 문자열 안에 줄바꿈을 넣고 싶다면?"
   ]
  },
  {
   "cell_type": "code",
   "execution_count": 30,
   "id": "9b80c4c3-4533-4545-a692-cb30e23af8da",
   "metadata": {},
   "outputs": [
    {
     "data": {
      "text/plain": [
       "'hello my friends\\nnuce to meet you'"
      ]
     },
     "execution_count": 30,
     "metadata": {},
     "output_type": "execute_result"
    }
   ],
   "source": [
    "'''hello my friends\n",
    "nuce to meet you'''"
   ]
  },
  {
   "cell_type": "markdown",
   "id": "8c859208-2a47-4de8-8778-5dde1007af5e",
   "metadata": {},
   "source": [
    "### 문자열 연산\n",
    "- 문자열도 수치형과 비슷한 연산이 가능함\n",
    "- 덧셈과 곱셈이 가능"
   ]
  },
  {
   "cell_type": "code",
   "execution_count": 31,
   "id": "99621424-1a3d-4dfd-83bd-721da764ae43",
   "metadata": {},
   "outputs": [
    {
     "data": {
      "text/plain": [
       "'hello'"
      ]
     },
     "execution_count": 31,
     "metadata": {},
     "output_type": "execute_result"
    }
   ],
   "source": [
    "'he' + 'llo'"
   ]
  },
  {
   "cell_type": "code",
   "execution_count": 32,
   "id": "3b7e7713-abb3-4585-852e-80597bfbe4b4",
   "metadata": {},
   "outputs": [
    {
     "data": {
      "text/plain": [
       "'hello hello hello hello hello hello hello hello hello hello '"
      ]
     },
     "execution_count": 32,
     "metadata": {},
     "output_type": "execute_result"
    }
   ],
   "source": [
    "'hello ' *10"
   ]
  },
  {
   "cell_type": "markdown",
   "id": "c7cdb62b-f4d5-4808-bcf0-f2f42ba5f8a0",
   "metadata": {},
   "source": [
    "#### 문자열 길이 구하기"
   ]
  },
  {
   "cell_type": "code",
   "execution_count": 33,
   "id": "ae8e6d21-4336-4ddd-92d6-ffe6931114d5",
   "metadata": {},
   "outputs": [
    {
     "data": {
      "text/plain": [
       "int"
      ]
     },
     "execution_count": 33,
     "metadata": {},
     "output_type": "execute_result"
    }
   ],
   "source": [
    "type(100)"
   ]
  },
  {
   "cell_type": "code",
   "execution_count": 34,
   "id": "5bb880cd-a07a-4213-b05b-3f57aa147cd9",
   "metadata": {},
   "outputs": [
    {
     "data": {
      "text/plain": [
       "0"
      ]
     },
     "execution_count": 34,
     "metadata": {},
     "output_type": "execute_result"
    }
   ],
   "source": [
    "int(0.0)"
   ]
  },
  {
   "cell_type": "code",
   "execution_count": 35,
   "id": "2bff4159-3e0b-4fe5-8bfb-502e586f380d",
   "metadata": {},
   "outputs": [
    {
     "data": {
      "text/plain": [
       "11"
      ]
     },
     "execution_count": 35,
     "metadata": {},
     "output_type": "execute_result"
    }
   ],
   "source": [
    "len('hello world')"
   ]
  },
  {
   "cell_type": "markdown",
   "id": "0a91ff69-69d6-46fa-8738-f83d78b65596",
   "metadata": {},
   "source": [
    "#### 인덱싱과 슬라이싱\n",
    "- 인덱싱이란 첫번째 숫자 혹은 n번째 숫자와 같이 위치정보를 이용하여, 문자를 뽑아내는 것\n",
    "- 슬라이싱이란 문자열 인덱싱을 이용하여 특정 범위의 문자를 잘라내는 것"
   ]
  },
  {
   "cell_type": "code",
   "execution_count": 36,
   "id": "36a9f56f-b001-4f47-b7d3-49983b2cbea2",
   "metadata": {},
   "outputs": [],
   "source": [
    "greeting = 'hello my friends'"
   ]
  },
  {
   "cell_type": "code",
   "execution_count": 37,
   "id": "9b61b54d-4d52-433b-92a4-e75e65c40727",
   "metadata": {},
   "outputs": [
    {
     "data": {
      "text/plain": [
       "'hello my friends'"
      ]
     },
     "execution_count": 37,
     "metadata": {},
     "output_type": "execute_result"
    }
   ],
   "source": [
    "greeting"
   ]
  },
  {
   "cell_type": "code",
   "execution_count": 38,
   "id": "cc8cc8ed-e43e-48fb-8eef-df39e9364d41",
   "metadata": {},
   "outputs": [
    {
     "data": {
      "text/plain": [
       "'l'"
      ]
     },
     "execution_count": 38,
     "metadata": {},
     "output_type": "execute_result"
    }
   ],
   "source": [
    "greeting[3]"
   ]
  },
  {
   "cell_type": "code",
   "execution_count": 40,
   "id": "83ca9a76-8ada-4fd0-8aba-efe82ed8316b",
   "metadata": {},
   "outputs": [
    {
     "data": {
      "text/plain": [
       "'o'"
      ]
     },
     "execution_count": 40,
     "metadata": {},
     "output_type": "execute_result"
    }
   ],
   "source": [
    "greeting[4]"
   ]
  },
  {
   "cell_type": "code",
   "execution_count": 41,
   "id": "09a4b2f7-1f53-4fa4-9760-a8a73ff2ab56",
   "metadata": {},
   "outputs": [
    {
     "data": {
      "text/plain": [
       "16"
      ]
     },
     "execution_count": 41,
     "metadata": {},
     "output_type": "execute_result"
    }
   ],
   "source": [
    "len(greeting)"
   ]
  },
  {
   "cell_type": "code",
   "execution_count": 42,
   "id": "93122e22-b0ac-4716-ba03-1c2e3bd5538e",
   "metadata": {},
   "outputs": [
    {
     "data": {
      "text/plain": [
       "'s'"
      ]
     },
     "execution_count": 42,
     "metadata": {},
     "output_type": "execute_result"
    }
   ],
   "source": [
    "greeting[15]"
   ]
  },
  {
   "cell_type": "code",
   "execution_count": 43,
   "id": "50dd1c7e-28fc-43c8-95e4-d0b73bcef678",
   "metadata": {},
   "outputs": [
    {
     "data": {
      "text/plain": [
       "'hel'"
      ]
     },
     "execution_count": 43,
     "metadata": {},
     "output_type": "execute_result"
    }
   ],
   "source": [
    "greeting[0:3]"
   ]
  },
  {
   "cell_type": "code",
   "execution_count": 44,
   "id": "5885d97b-eb04-4479-b6fb-c177af623741",
   "metadata": {},
   "outputs": [
    {
     "data": {
      "text/plain": [
       "'s'"
      ]
     },
     "execution_count": 44,
     "metadata": {},
     "output_type": "execute_result"
    }
   ],
   "source": [
    "greeting[-1]"
   ]
  },
  {
   "cell_type": "code",
   "execution_count": 46,
   "id": "c449f983-0fb9-4d03-a053-1bad8c7ba1bd",
   "metadata": {},
   "outputs": [
    {
     "data": {
      "text/plain": [
       "'end'"
      ]
     },
     "execution_count": 46,
     "metadata": {},
     "output_type": "execute_result"
    }
   ],
   "source": [
    "greeting[-4:-1]"
   ]
  },
  {
   "cell_type": "code",
   "execution_count": 47,
   "id": "847b643b-76c4-46f6-ba21-01b8f0cac602",
   "metadata": {},
   "outputs": [
    {
     "data": {
      "text/plain": [
       "'ho'"
      ]
     },
     "execution_count": 47,
     "metadata": {},
     "output_type": "execute_result"
    }
   ],
   "source": [
    "greeting[0] + greeting[4]"
   ]
  },
  {
   "cell_type": "code",
   "execution_count": 48,
   "id": "ba92e97e-f6aa-4453-abea-e77b7a57d316",
   "metadata": {},
   "outputs": [
    {
     "data": {
      "text/plain": [
       "'my'"
      ]
     },
     "execution_count": 48,
     "metadata": {},
     "output_type": "execute_result"
    }
   ],
   "source": [
    "greeting[6:8]"
   ]
  },
  {
   "cell_type": "code",
   "execution_count": 49,
   "id": "9224f1e7-0514-4122-820b-5631fd3dbc05",
   "metadata": {},
   "outputs": [
    {
     "data": {
      "text/plain": [
       "'hello '"
      ]
     },
     "execution_count": 49,
     "metadata": {},
     "output_type": "execute_result"
    }
   ],
   "source": [
    "greeting[:6]"
   ]
  },
  {
   "cell_type": "code",
   "execution_count": 50,
   "id": "08343f02-8c15-4e37-900f-c27bce64d8d8",
   "metadata": {},
   "outputs": [
    {
     "data": {
      "text/plain": [
       "'hlom red'"
      ]
     },
     "execution_count": 50,
     "metadata": {},
     "output_type": "execute_result"
    }
   ],
   "source": [
    "greeting[::2]"
   ]
  },
  {
   "cell_type": "code",
   "execution_count": 51,
   "id": "caa952cc-ed8d-4427-905c-2b259df54d01",
   "metadata": {},
   "outputs": [
    {
     "data": {
      "text/plain": [
       "'sdneirf ym olleh'"
      ]
     },
     "execution_count": 51,
     "metadata": {},
     "output_type": "execute_result"
    }
   ],
   "source": [
    "greeting[::-1]"
   ]
  },
  {
   "cell_type": "code",
   "execution_count": 52,
   "id": "7e185d96-097a-4377-bff1-1666fd84f7fd",
   "metadata": {},
   "outputs": [
    {
     "data": {
      "text/plain": [
       "'snify le'"
      ]
     },
     "execution_count": 52,
     "metadata": {},
     "output_type": "execute_result"
    }
   ],
   "source": [
    "greeting[::-2]"
   ]
  },
  {
   "cell_type": "code",
   "execution_count": 61,
   "id": "81d03834-ef6b-4709-a7e2-23aabbe1639f",
   "metadata": {},
   "outputs": [
    {
     "data": {
      "text/plain": [
       "'snify l'"
      ]
     },
     "execution_count": 61,
     "metadata": {},
     "output_type": "execute_result"
    }
   ],
   "source": [
    "greeting[16:1:-2]"
   ]
  },
  {
   "cell_type": "markdown",
   "id": "1db90a16-b9a2-4b70-94d6-afd393495d25",
   "metadata": {},
   "source": [
    "#### 문자열 관련 함수\n",
    "- count\n",
    "- find\n",
    "- index\n",
    "- join\n",
    "- upper\n",
    "- lower\n",
    "- replace\n",
    "- split"
   ]
  },
  {
   "cell_type": "code",
   "execution_count": 63,
   "id": "f98d13fa-22b4-4693-9788-890b50ac7ef9",
   "metadata": {},
   "outputs": [
    {
     "data": {
      "text/plain": [
       "2"
      ]
     },
     "execution_count": 63,
     "metadata": {},
     "output_type": "execute_result"
    }
   ],
   "source": [
    "greeting.count('e')"
   ]
  },
  {
   "cell_type": "code",
   "execution_count": 65,
   "id": "937495e6-5d0b-4f9f-af5d-03c5a3c243cc",
   "metadata": {},
   "outputs": [
    {
     "data": {
      "text/plain": [
       "6"
      ]
     },
     "execution_count": 65,
     "metadata": {},
     "output_type": "execute_result"
    }
   ],
   "source": [
    "greeting.find('m') # 맨 첫번째만"
   ]
  },
  {
   "cell_type": "code",
   "execution_count": 66,
   "id": "34cbf14a-524d-4f49-83eb-7b5e626b0b24",
   "metadata": {},
   "outputs": [
    {
     "data": {
      "text/plain": [
       "6"
      ]
     },
     "execution_count": 66,
     "metadata": {},
     "output_type": "execute_result"
    }
   ],
   "source": [
    "greeting.index('my')"
   ]
  },
  {
   "cell_type": "code",
   "execution_count": 67,
   "id": "5f464fb0-2df8-45bd-afee-b0fe5d460919",
   "metadata": {},
   "outputs": [
    {
     "data": {
      "text/plain": [
       "'h!e!l!l!o! !m!y! !f!r!i!e!n!d!s'"
      ]
     },
     "execution_count": 67,
     "metadata": {},
     "output_type": "execute_result"
    }
   ],
   "source": [
    "'!'.join(greeting)"
   ]
  },
  {
   "cell_type": "code",
   "execution_count": 68,
   "id": "2474db4a-a8d1-4289-86bd-226dbfd28bad",
   "metadata": {},
   "outputs": [
    {
     "data": {
      "text/plain": [
       "'hello my friends'"
      ]
     },
     "execution_count": 68,
     "metadata": {},
     "output_type": "execute_result"
    }
   ],
   "source": [
    "greeting"
   ]
  },
  {
   "cell_type": "code",
   "execution_count": 69,
   "id": "ccc99fde-6c0a-475a-93ae-79c0fb4e32c5",
   "metadata": {},
   "outputs": [
    {
     "data": {
      "text/plain": [
       "'!'"
      ]
     },
     "execution_count": 69,
     "metadata": {},
     "output_type": "execute_result"
    }
   ],
   "source": [
    "greeting.join('!')"
   ]
  },
  {
   "cell_type": "code",
   "execution_count": 70,
   "id": "0debfd70-b0cd-4e0c-8568-5dad4e06a0d3",
   "metadata": {},
   "outputs": [
    {
     "data": {
      "text/plain": [
       "'hello my friends'"
      ]
     },
     "execution_count": 70,
     "metadata": {},
     "output_type": "execute_result"
    }
   ],
   "source": [
    "greeting"
   ]
  },
  {
   "cell_type": "code",
   "execution_count": 71,
   "id": "70470437-556c-49dc-a78d-1bc5e6d3c230",
   "metadata": {},
   "outputs": [
    {
     "data": {
      "text/plain": [
       "'khello my friendskhello my friendsk'"
      ]
     },
     "execution_count": 71,
     "metadata": {},
     "output_type": "execute_result"
    }
   ],
   "source": [
    "greeting.join('kkk')"
   ]
  },
  {
   "cell_type": "code",
   "execution_count": 72,
   "id": "5a42f8a5-687f-4f4f-898f-1e68e71684eb",
   "metadata": {},
   "outputs": [
    {
     "data": {
      "text/plain": [
       "'khello my friendsk'"
      ]
     },
     "execution_count": 72,
     "metadata": {},
     "output_type": "execute_result"
    }
   ],
   "source": [
    "greeting.join('kk')"
   ]
  },
  {
   "cell_type": "markdown",
   "id": "38ce268c-4525-4d32-b1ee-ae0433900ae3",
   "metadata": {},
   "source": [
    "#### '구분자'.join(리스트)"
   ]
  },
  {
   "cell_type": "code",
   "execution_count": 73,
   "id": "3fa93514-9ee2-40aa-b192-cde2a2cefc25",
   "metadata": {},
   "outputs": [
    {
     "data": {
      "text/plain": [
       "'h*e*l*l*o* *m*y* *f*r*i*e*n*d*s'"
      ]
     },
     "execution_count": 73,
     "metadata": {},
     "output_type": "execute_result"
    }
   ],
   "source": [
    "'*'.join(greeting)"
   ]
  },
  {
   "cell_type": "code",
   "execution_count": 75,
   "id": "a0c0fc47-3a1c-4d01-ae30-772baa1240e0",
   "metadata": {},
   "outputs": [
    {
     "data": {
      "text/plain": [
       "'HELLO MY FRIENDS'"
      ]
     },
     "execution_count": 75,
     "metadata": {},
     "output_type": "execute_result"
    }
   ],
   "source": [
    "greeting.upper()"
   ]
  },
  {
   "cell_type": "code",
   "execution_count": 76,
   "id": "fdbc4c39-eb66-4c22-b52e-344818d92fd7",
   "metadata": {},
   "outputs": [
    {
     "data": {
      "text/plain": [
       "'hello my friends'"
      ]
     },
     "execution_count": 76,
     "metadata": {},
     "output_type": "execute_result"
    }
   ],
   "source": [
    "greeting"
   ]
  },
  {
   "cell_type": "code",
   "execution_count": 78,
   "id": "f4d41f09-57bd-481d-8d91-46638bb178f0",
   "metadata": {},
   "outputs": [
    {
     "data": {
      "text/plain": [
       "'bye my friends'"
      ]
     },
     "execution_count": 78,
     "metadata": {},
     "output_type": "execute_result"
    }
   ],
   "source": [
    "greeting.replace('hello', 'bye')"
   ]
  },
  {
   "cell_type": "code",
   "execution_count": 79,
   "id": "88118116-7219-4af6-96d3-02ab4a4f406a",
   "metadata": {},
   "outputs": [
    {
     "data": {
      "text/plain": [
       "'hello my friends'"
      ]
     },
     "execution_count": 79,
     "metadata": {},
     "output_type": "execute_result"
    }
   ],
   "source": [
    "greeting"
   ]
  },
  {
   "cell_type": "code",
   "execution_count": 80,
   "id": "f4efffc2-2c69-4bd2-a85d-87c5cf885a71",
   "metadata": {},
   "outputs": [
    {
     "data": {
      "text/plain": [
       "['hello ', ' friends']"
      ]
     },
     "execution_count": 80,
     "metadata": {},
     "output_type": "execute_result"
    }
   ],
   "source": [
    "greeting.split('my')"
   ]
  },
  {
   "cell_type": "code",
   "execution_count": 81,
   "id": "7b649329-4759-441e-9171-8d48fa1cbd9d",
   "metadata": {},
   "outputs": [
    {
     "data": {
      "text/plain": [
       "['hello', 'my', 'friends']"
      ]
     },
     "execution_count": 81,
     "metadata": {},
     "output_type": "execute_result"
    }
   ],
   "source": [
    "greeting.split()"
   ]
  },
  {
   "cell_type": "code",
   "execution_count": 82,
   "id": "f00151b1-e710-44c6-9023-9ce36fc6bfff",
   "metadata": {},
   "outputs": [
    {
     "data": {
      "text/plain": [
       "['hell', ' my friends']"
      ]
     },
     "execution_count": 82,
     "metadata": {},
     "output_type": "execute_result"
    }
   ],
   "source": [
    "greeting.split('o')"
   ]
  },
  {
   "cell_type": "markdown",
   "id": "842a5db4-f155-46f1-980c-0d7460a25232",
   "metadata": {},
   "source": [
    "#### 형변환"
   ]
  },
  {
   "cell_type": "code",
   "execution_count": 83,
   "id": "385a3737-c500-4613-9055-90de1d6c454b",
   "metadata": {},
   "outputs": [],
   "source": [
    "number1 = 1"
   ]
  },
  {
   "cell_type": "code",
   "execution_count": 84,
   "id": "193060e5-7940-4968-9694-0ee3ff8a658f",
   "metadata": {},
   "outputs": [
    {
     "data": {
      "text/plain": [
       "1"
      ]
     },
     "execution_count": 84,
     "metadata": {},
     "output_type": "execute_result"
    }
   ],
   "source": [
    "number1"
   ]
  },
  {
   "cell_type": "code",
   "execution_count": 85,
   "id": "f1646ca3-1ffb-4bb1-8938-eead8b26846c",
   "metadata": {},
   "outputs": [
    {
     "data": {
      "text/plain": [
       "int"
      ]
     },
     "execution_count": 85,
     "metadata": {},
     "output_type": "execute_result"
    }
   ],
   "source": [
    "type(number1)"
   ]
  },
  {
   "cell_type": "code",
   "execution_count": 86,
   "id": "e715522d-d5a3-489a-b70a-2d1eb708c264",
   "metadata": {},
   "outputs": [
    {
     "data": {
      "text/plain": [
       "'1'"
      ]
     },
     "execution_count": 86,
     "metadata": {},
     "output_type": "execute_result"
    }
   ],
   "source": [
    "str(number1)"
   ]
  },
  {
   "cell_type": "code",
   "execution_count": 87,
   "id": "088bda58-e0c0-4091-bb30-b435154e6ac5",
   "metadata": {},
   "outputs": [
    {
     "data": {
      "text/plain": [
       "1"
      ]
     },
     "execution_count": 87,
     "metadata": {},
     "output_type": "execute_result"
    }
   ],
   "source": [
    "number1"
   ]
  },
  {
   "cell_type": "code",
   "execution_count": 88,
   "id": "6d228c49-4f44-4b37-a7ef-43c03e1f998c",
   "metadata": {},
   "outputs": [
    {
     "data": {
      "text/plain": [
       "str"
      ]
     },
     "execution_count": 88,
     "metadata": {},
     "output_type": "execute_result"
    }
   ],
   "source": [
    "type(str(number1))"
   ]
  },
  {
   "cell_type": "code",
   "execution_count": 89,
   "id": "f966201c-3b7a-4672-9897-dcc0941a288b",
   "metadata": {},
   "outputs": [],
   "source": [
    "number2 = '1'"
   ]
  },
  {
   "cell_type": "code",
   "execution_count": 90,
   "id": "192e71d4-310d-4aee-9837-2d6d23245440",
   "metadata": {},
   "outputs": [
    {
     "data": {
      "text/plain": [
       "int"
      ]
     },
     "execution_count": 90,
     "metadata": {},
     "output_type": "execute_result"
    }
   ],
   "source": [
    "type(int(number2))"
   ]
  },
  {
   "cell_type": "code",
   "execution_count": 91,
   "id": "467a5e76-4909-4468-b3d4-8c97178c7646",
   "metadata": {},
   "outputs": [
    {
     "data": {
      "text/plain": [
       "1"
      ]
     },
     "execution_count": 91,
     "metadata": {},
     "output_type": "execute_result"
    }
   ],
   "source": [
    "int(number2)"
   ]
  },
  {
   "cell_type": "code",
   "execution_count": 93,
   "id": "b03f8fb1-b960-45a9-ba19-188a14632537",
   "metadata": {},
   "outputs": [],
   "source": [
    "pnumber = '010-1234-5678'"
   ]
  },
  {
   "cell_type": "code",
   "execution_count": 94,
   "id": "59b15844-e78e-43bf-883a-8117d818fc83",
   "metadata": {},
   "outputs": [
    {
     "data": {
      "text/plain": [
       "'01012345678'"
      ]
     },
     "execution_count": 94,
     "metadata": {},
     "output_type": "execute_result"
    }
   ],
   "source": [
    "pnumber.replace('-', '')"
   ]
  },
  {
   "cell_type": "code",
   "execution_count": 95,
   "id": "c4373579-571d-4635-b01d-c4084c5805f4",
   "metadata": {},
   "outputs": [],
   "source": [
    "jnumber = '900101-1234567'"
   ]
  },
  {
   "cell_type": "code",
   "execution_count": 96,
   "id": "3fddd022-1c10-47b5-9fad-3655c547d116",
   "metadata": {},
   "outputs": [
    {
     "data": {
      "text/plain": [
       "'1'"
      ]
     },
     "execution_count": 96,
     "metadata": {},
     "output_type": "execute_result"
    }
   ],
   "source": [
    "jnumber[7]"
   ]
  },
  {
   "cell_type": "code",
   "execution_count": 97,
   "id": "42b74659-4e08-4812-9148-5132887a5a00",
   "metadata": {},
   "outputs": [],
   "source": [
    "a='10'\n",
    "b='10'"
   ]
  },
  {
   "cell_type": "code",
   "execution_count": 98,
   "id": "b449768c-eb81-4571-92ba-563d4c181a16",
   "metadata": {},
   "outputs": [
    {
     "data": {
      "text/plain": [
       "'1010'"
      ]
     },
     "execution_count": 98,
     "metadata": {},
     "output_type": "execute_result"
    }
   ],
   "source": [
    "a+b"
   ]
  },
  {
   "cell_type": "markdown",
   "id": "5d1d38f9-63ec-416f-984f-bd93857138be",
   "metadata": {},
   "source": [
    "### 3. 리스트(list)\n",
    "- 리스트는 여러 개의 요소들을 묶어서 사용할 수 있는 자료형이다.\n",
    "- 리스트는 비어있을 수도 있고, 숫자형이나 문자열이 섞여있을 수도 있다.\n",
    "- 리스트는 [ ]를 사용하며 쉼표로 요소를 분리한다."
   ]
  },
  {
   "cell_type": "code",
   "execution_count": 99,
   "id": "a270146d-e1fb-4429-b259-99fb5dc1e530",
   "metadata": {},
   "outputs": [],
   "source": [
    "numbers = []"
   ]
  },
  {
   "cell_type": "code",
   "execution_count": 100,
   "id": "58670583-15b7-49f9-a856-b1a1316d5b05",
   "metadata": {},
   "outputs": [
    {
     "data": {
      "text/plain": [
       "list"
      ]
     },
     "execution_count": 100,
     "metadata": {},
     "output_type": "execute_result"
    }
   ],
   "source": [
    "type(numbers)"
   ]
  },
  {
   "cell_type": "code",
   "execution_count": 101,
   "id": "66b8cfd8-cf4d-459f-9c0a-0e3aad0f6f44",
   "metadata": {},
   "outputs": [],
   "source": [
    "numbers = [1,2,3,4,5]"
   ]
  },
  {
   "cell_type": "code",
   "execution_count": 102,
   "id": "e0e6a57f-c440-4f1c-8734-4d9ae882d3e0",
   "metadata": {},
   "outputs": [
    {
     "data": {
      "text/plain": [
       "5"
      ]
     },
     "execution_count": 102,
     "metadata": {},
     "output_type": "execute_result"
    }
   ],
   "source": [
    "len(numbers)"
   ]
  },
  {
   "cell_type": "markdown",
   "id": "e996bbe5-3c2a-45d6-bd3d-5e765ae0c58f",
   "metadata": {},
   "source": [
    "#### 리스트 인덱싱"
   ]
  },
  {
   "cell_type": "code",
   "execution_count": 103,
   "id": "abfd99ca-7ac1-4ccf-b721-4d4cf2a48279",
   "metadata": {},
   "outputs": [
    {
     "data": {
      "text/plain": [
       "1"
      ]
     },
     "execution_count": 103,
     "metadata": {},
     "output_type": "execute_result"
    }
   ],
   "source": [
    "numbers[0]"
   ]
  },
  {
   "cell_type": "code",
   "execution_count": 104,
   "id": "c5bd589d-8388-4b70-95e8-4d8be59ef6ef",
   "metadata": {},
   "outputs": [
    {
     "data": {
      "text/plain": [
       "[3, 4]"
      ]
     },
     "execution_count": 104,
     "metadata": {},
     "output_type": "execute_result"
    }
   ],
   "source": [
    "numbers[2:4]"
   ]
  },
  {
   "cell_type": "code",
   "execution_count": 105,
   "id": "59702b50-a978-4317-976a-2e88412183cc",
   "metadata": {},
   "outputs": [
    {
     "data": {
      "text/plain": [
       "6"
      ]
     },
     "execution_count": 105,
     "metadata": {},
     "output_type": "execute_result"
    }
   ],
   "source": [
    "numbers[0] + numbers[4]"
   ]
  },
  {
   "cell_type": "code",
   "execution_count": 106,
   "id": "ed149319-21c9-4fcf-820a-2a9c7d47d96e",
   "metadata": {},
   "outputs": [],
   "source": [
    "strings = ['a', 'b']"
   ]
  },
  {
   "cell_type": "code",
   "execution_count": 107,
   "id": "2ecc596f-2973-4b68-90bb-e87c3a51776d",
   "metadata": {},
   "outputs": [
    {
     "data": {
      "text/plain": [
       "[1, 2, 3, 4, 5, 'a', 'b']"
      ]
     },
     "execution_count": 107,
     "metadata": {},
     "output_type": "execute_result"
    }
   ],
   "source": [
    "numbers + strings"
   ]
  },
  {
   "cell_type": "code",
   "execution_count": 108,
   "id": "97bcc8da-cc8a-48c3-958d-74182a3f1bc3",
   "metadata": {},
   "outputs": [],
   "source": [
    "del numbers[0]"
   ]
  },
  {
   "cell_type": "code",
   "execution_count": 109,
   "id": "eb90e490-97a2-49c6-9a6a-4d714040ea15",
   "metadata": {},
   "outputs": [
    {
     "data": {
      "text/plain": [
       "[2, 3, 4, 5]"
      ]
     },
     "execution_count": 109,
     "metadata": {},
     "output_type": "execute_result"
    }
   ],
   "source": [
    "numbers"
   ]
  },
  {
   "cell_type": "markdown",
   "id": "dd24f0bc-b59b-4def-89f2-ed483d8b977c",
   "metadata": {},
   "source": [
    "### 리스트 관련 함수들\n",
    "- 추가(append)\n",
    "- 정렬(sort)\n",
    "- 뒤집기(reverse)\n",
    "- 위치(index)\n",
    "- 삽입(insert)\n",
    "- 삭제(remove)\n",
    "- 꺼내기(pop)\n",
    "- 갯수(count)\n",
    "- 확장(extend)"
   ]
  },
  {
   "cell_type": "code",
   "execution_count": 110,
   "id": "65434ca7-4072-432a-bb23-e3455a0714b7",
   "metadata": {},
   "outputs": [],
   "source": [
    "listC = [31,21,50]"
   ]
  },
  {
   "cell_type": "code",
   "execution_count": 111,
   "id": "49f71d89-d9c6-4470-b503-a6003b589f44",
   "metadata": {},
   "outputs": [],
   "source": [
    "listC.append(100)"
   ]
  },
  {
   "cell_type": "code",
   "execution_count": 112,
   "id": "62a5a221-0507-4727-8f25-be2f415387b7",
   "metadata": {},
   "outputs": [
    {
     "data": {
      "text/plain": [
       "[31, 21, 50, 100]"
      ]
     },
     "execution_count": 112,
     "metadata": {},
     "output_type": "execute_result"
    }
   ],
   "source": [
    "listC"
   ]
  },
  {
   "cell_type": "code",
   "execution_count": 113,
   "id": "c0a2d6a0-4fe3-47eb-a6f2-85e2a58fd130",
   "metadata": {},
   "outputs": [],
   "source": [
    "listC.sort()"
   ]
  },
  {
   "cell_type": "code",
   "execution_count": 114,
   "id": "b741dc67-d43c-4f84-b13c-dc5e9c0d4cab",
   "metadata": {},
   "outputs": [
    {
     "data": {
      "text/plain": [
       "[21, 31, 50, 100]"
      ]
     },
     "execution_count": 114,
     "metadata": {},
     "output_type": "execute_result"
    }
   ],
   "source": [
    "listC"
   ]
  },
  {
   "cell_type": "code",
   "execution_count": 115,
   "id": "e957b886-7b8b-40ad-987f-9281bf244ae6",
   "metadata": {},
   "outputs": [],
   "source": [
    "listC.reverse()"
   ]
  },
  {
   "cell_type": "code",
   "execution_count": 116,
   "id": "a7c324c8-6707-41cd-a397-4fe36a8a3dc2",
   "metadata": {},
   "outputs": [
    {
     "data": {
      "text/plain": [
       "[100, 50, 31, 21]"
      ]
     },
     "execution_count": 116,
     "metadata": {},
     "output_type": "execute_result"
    }
   ],
   "source": [
    "listC"
   ]
  },
  {
   "cell_type": "code",
   "execution_count": 117,
   "id": "118e37ef-401c-4a12-bd41-ae0f1b446641",
   "metadata": {},
   "outputs": [
    {
     "data": {
      "text/plain": [
       "2"
      ]
     },
     "execution_count": 117,
     "metadata": {},
     "output_type": "execute_result"
    }
   ],
   "source": [
    "listC.index(31)"
   ]
  },
  {
   "cell_type": "code",
   "execution_count": 118,
   "id": "9635710f-5bb4-4573-bbca-37948aa71d67",
   "metadata": {},
   "outputs": [],
   "source": [
    "listC.insert(0,999)"
   ]
  },
  {
   "cell_type": "code",
   "execution_count": 119,
   "id": "fe08f97d-d800-4c9e-b863-4c250f896f7d",
   "metadata": {},
   "outputs": [
    {
     "data": {
      "text/plain": [
       "[999, 100, 50, 31, 21]"
      ]
     },
     "execution_count": 119,
     "metadata": {},
     "output_type": "execute_result"
    }
   ],
   "source": [
    "listC"
   ]
  },
  {
   "cell_type": "code",
   "execution_count": 121,
   "id": "c03df103-68ea-440e-98c1-e00770cdb9e3",
   "metadata": {},
   "outputs": [],
   "source": [
    "listC.insert(1, 123)"
   ]
  },
  {
   "cell_type": "code",
   "execution_count": 122,
   "id": "310a2321-b5af-489c-a451-a85c1bf9c415",
   "metadata": {},
   "outputs": [
    {
     "data": {
      "text/plain": [
       "[999, 123, 100, 50, 31, 21]"
      ]
     },
     "execution_count": 122,
     "metadata": {},
     "output_type": "execute_result"
    }
   ],
   "source": [
    "listC"
   ]
  },
  {
   "cell_type": "code",
   "execution_count": 123,
   "id": "811e86c1-d7f1-4673-8509-28b1f9c4f0a8",
   "metadata": {},
   "outputs": [],
   "source": [
    "listC.remove(123)"
   ]
  },
  {
   "cell_type": "code",
   "execution_count": 124,
   "id": "749fe9da-9932-45ef-a792-48c62a126037",
   "metadata": {},
   "outputs": [
    {
     "data": {
      "text/plain": [
       "[999, 100, 50, 31, 21]"
      ]
     },
     "execution_count": 124,
     "metadata": {},
     "output_type": "execute_result"
    }
   ],
   "source": [
    "listC"
   ]
  },
  {
   "cell_type": "code",
   "execution_count": 125,
   "id": "523586ef-4747-42c6-a886-2faaa5eaa612",
   "metadata": {},
   "outputs": [
    {
     "data": {
      "text/plain": [
       "21"
      ]
     },
     "execution_count": 125,
     "metadata": {},
     "output_type": "execute_result"
    }
   ],
   "source": [
    "listC.pop()"
   ]
  },
  {
   "cell_type": "code",
   "execution_count": 126,
   "id": "29f11010-0f19-417d-b417-b88c3f22d0d2",
   "metadata": {},
   "outputs": [
    {
     "data": {
      "text/plain": [
       "[999, 100, 50, 31]"
      ]
     },
     "execution_count": 126,
     "metadata": {},
     "output_type": "execute_result"
    }
   ],
   "source": [
    "listC"
   ]
  },
  {
   "cell_type": "code",
   "execution_count": 127,
   "id": "7ac0569e-17aa-4304-9e23-62eee4f0c2f0",
   "metadata": {},
   "outputs": [
    {
     "data": {
      "text/plain": [
       "1"
      ]
     },
     "execution_count": 127,
     "metadata": {},
     "output_type": "execute_result"
    }
   ],
   "source": [
    "listC.count(100)"
   ]
  },
  {
   "cell_type": "code",
   "execution_count": 129,
   "id": "c0b14014-5a7e-4e9a-a9a0-07b965c8a621",
   "metadata": {},
   "outputs": [],
   "source": [
    "listC.extend([1,2,3,4])"
   ]
  },
  {
   "cell_type": "code",
   "execution_count": 130,
   "id": "4d24efae-ac39-4539-9cbd-5ddcf637eec3",
   "metadata": {},
   "outputs": [
    {
     "data": {
      "text/plain": [
       "[999, 100, 50, 31, 1, 2, 3, 4]"
      ]
     },
     "execution_count": 130,
     "metadata": {},
     "output_type": "execute_result"
    }
   ],
   "source": [
    "listC"
   ]
  },
  {
   "cell_type": "code",
   "execution_count": 131,
   "id": "e46a5f60-cddd-4a06-8093-1efff0942839",
   "metadata": {},
   "outputs": [
    {
     "data": {
      "text/plain": [
       "[999, 100, 50, 31, 1, 2, 3, 4, 5, 6, 7, 8]"
      ]
     },
     "execution_count": 131,
     "metadata": {},
     "output_type": "execute_result"
    }
   ],
   "source": [
    "listC + [5,6,7,8]"
   ]
  },
  {
   "cell_type": "code",
   "execution_count": 142,
   "id": "f264075d-44d7-4fb6-aa8c-1d950a6e34c5",
   "metadata": {},
   "outputs": [],
   "source": [
    "list1 = [13,53,24,35,38]"
   ]
  },
  {
   "cell_type": "code",
   "execution_count": 143,
   "id": "4c94748e-079e-43bc-810b-cc377508e728",
   "metadata": {},
   "outputs": [],
   "source": [
    "list1.sort()"
   ]
  },
  {
   "cell_type": "code",
   "execution_count": 144,
   "id": "ce1b2189-7f48-42b8-8bad-cc5ff70bdd60",
   "metadata": {},
   "outputs": [],
   "source": [
    "list1.reverse()"
   ]
  },
  {
   "cell_type": "code",
   "execution_count": 145,
   "id": "30994a64-25cb-491b-94c7-e6aa33b2e010",
   "metadata": {},
   "outputs": [
    {
     "data": {
      "text/plain": [
       "[53, 38, 35, 24, 13]"
      ]
     },
     "execution_count": 145,
     "metadata": {},
     "output_type": "execute_result"
    }
   ],
   "source": [
    "list1"
   ]
  },
  {
   "cell_type": "code",
   "execution_count": 135,
   "id": "6047f377-99df-4cda-989a-731dce7dfc7a",
   "metadata": {},
   "outputs": [],
   "source": [
    "netflix_list = [\"DP\", \"오징어게임\", \"슬기로운 의사생활\"]"
   ]
  },
  {
   "cell_type": "code",
   "execution_count": 136,
   "id": "6bb74899-69e8-4868-a751-5243c3e01eb0",
   "metadata": {},
   "outputs": [],
   "source": [
    "netflix_list.append('호텔 델루나')"
   ]
  },
  {
   "cell_type": "code",
   "execution_count": 138,
   "id": "de29aa2c-65e1-48c1-ae10-d18d0477dd2d",
   "metadata": {},
   "outputs": [],
   "source": [
    "netflix_list.remove('DP')"
   ]
  },
  {
   "cell_type": "code",
   "execution_count": 139,
   "id": "32d7a2b8-f554-4c47-b892-a9fea7a076ab",
   "metadata": {},
   "outputs": [],
   "source": [
    "netflix_list.insert(0, \"검은태양\")"
   ]
  },
  {
   "cell_type": "code",
   "execution_count": 140,
   "id": "1c48678f-2371-4604-9c86-7d28e957a79e",
   "metadata": {},
   "outputs": [
    {
     "data": {
      "text/plain": [
       "['검은태양', '오징어게임', '슬기로운 의사생활', '호텔 델루나']"
      ]
     },
     "execution_count": 140,
     "metadata": {},
     "output_type": "execute_result"
    }
   ],
   "source": [
    "netflix_list"
   ]
  },
  {
   "cell_type": "code",
   "execution_count": null,
   "id": "44fc839c-d453-4d64-ade9-3053f8856d3e",
   "metadata": {},
   "outputs": [],
   "source": []
  }
 ],
 "metadata": {
  "kernelspec": {
   "display_name": "Python 3",
   "language": "python",
   "name": "python3"
  },
  "language_info": {
   "codemirror_mode": {
    "name": "ipython",
    "version": 3
   },
   "file_extension": ".py",
   "mimetype": "text/x-python",
   "name": "python",
   "nbconvert_exporter": "python",
   "pygments_lexer": "ipython3",
   "version": "3.8.8"
  }
 },
 "nbformat": 4,
 "nbformat_minor": 5
}
