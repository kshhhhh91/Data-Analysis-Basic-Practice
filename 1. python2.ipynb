{
 "cells": [
  {
   "cell_type": "markdown",
   "id": "82315b52-2285-48a0-9b35-b23c1fdff471",
   "metadata": {},
   "source": [
    "# 제어문\n",
    "- 단어가 \"자료형\"이라면, 문장은 \"제어문\"이라고 생각할 수 있다.\n",
    "- 우리가 배운 자료형으론 어떤 로직을 구현할 수 없지만, 이제 제어문을 배우면 조건에 맞는 연산을 할 수 있도록 구현할 수 있다.\n",
    "- 제어문은 if, while, for 3개로 구성된다."
   ]
  },
  {
   "cell_type": "markdown",
   "id": "149bd920-cb26-4012-833c-f6a7b7a6cdcd",
   "metadata": {},
   "source": [
    "## if\n",
    "- if는 '만약'이라는 뜻을 담고 있다.\n",
    "- \"if 뒤에 나오는 조건이 참일 경우, ~을 실행하라\"라는 뜻으로 이해하면 된다.\n",
    "- if의 조건문은 True 혹은 False인 bool 자료형으로 조건을 검사한다.\n",
    "- if 조건문 뒤에는 :를 사용해야 한다.\n",
    "- if문 아래 수행할 문장은 들여쓰기(indent)를 해야한다. (tab, space*4)"
   ]
  },
  {
   "cell_type": "code",
   "execution_count": 1,
   "id": "00fa5067-54d3-4a9c-97eb-f663d805e1df",
   "metadata": {},
   "outputs": [
    {
     "name": "stdout",
     "output_type": "stream",
     "text": [
      "1은 0보다 크다\n"
     ]
    }
   ],
   "source": [
    "if(1>0):\n",
    "    print(\"1은 0보다 크다\")"
   ]
  },
  {
   "cell_type": "code",
   "execution_count": 2,
   "id": "431ad1fa-8901-47ef-ac4c-9bbaf9845e90",
   "metadata": {},
   "outputs": [
    {
     "data": {
      "text/plain": [
       "True"
      ]
     },
     "execution_count": 2,
     "metadata": {},
     "output_type": "execute_result"
    }
   ],
   "source": [
    "1>0"
   ]
  },
  {
   "cell_type": "markdown",
   "id": "f4aa7543-49a6-4d06-b4b7-063843b7863c",
   "metadata": {},
   "source": [
    "- bool 자료형에서 봤듯이, True인 참을 나타낼 때 해당 if문은 수행이 된다.\n",
    "- 숫자는 0이 아니면 True\n",
    "- 문자열은 \"\" 아니면 True\n",
    "- 비교연산자의 값이 맞으면 True"
   ]
  },
  {
   "cell_type": "code",
   "execution_count": 3,
   "id": "270a5b7f-e15f-4bee-bed5-afb41de43dfd",
   "metadata": {},
   "outputs": [],
   "source": [
    "if(0):\n",
    "    print('출력')"
   ]
  },
  {
   "cell_type": "code",
   "execution_count": 4,
   "id": "7dae9cf8-a8fd-4e75-aba3-d461cb7c9f5e",
   "metadata": {},
   "outputs": [
    {
     "name": "stdout",
     "output_type": "stream",
     "text": [
      "출력\n"
     ]
    }
   ],
   "source": [
    "if(1):\n",
    "    print('출력')"
   ]
  },
  {
   "cell_type": "code",
   "execution_count": 5,
   "id": "6650e8aa-b9a6-428e-90db-9a97f25485ff",
   "metadata": {},
   "outputs": [
    {
     "name": "stdout",
     "output_type": "stream",
     "text": [
      "출력\n"
     ]
    }
   ],
   "source": [
    "if('맞나?'):\n",
    "    print('출력')"
   ]
  },
  {
   "cell_type": "code",
   "execution_count": 6,
   "id": "e8640ae3-974c-4b95-90ac-c2de577aa692",
   "metadata": {},
   "outputs": [],
   "source": [
    "if(\"\"):\n",
    "    print('출력')"
   ]
  },
  {
   "cell_type": "markdown",
   "id": "358cf1c1-69fc-4d7b-af08-1b8f6cc5e291",
   "metadata": {},
   "source": [
    "## elif, else\n",
    "- if 조건문 뒤에 추가적인 조건을 검사하는 방법\n",
    "- 만약 if문의 조건이 충족하지 않으면, 이후에 있는 elif를 검사하게 된다.\n",
    "- 앞에 주어진 모든 조건을 만족하지 못할 때는 else라는 부분이 수행된다."
   ]
  },
  {
   "cell_type": "code",
   "execution_count": 8,
   "id": "c6bdddad-97b2-4683-addf-bdda01e3e347",
   "metadata": {},
   "outputs": [
    {
     "name": "stdout",
     "output_type": "stream",
     "text": [
      "B\n"
     ]
    }
   ],
   "source": [
    "if(1 < 0):\n",
    "    print(\"A\")\n",
    "else:\n",
    "    print(\"B\")"
   ]
  },
  {
   "cell_type": "code",
   "execution_count": 10,
   "id": "8ad10c8e-0175-473e-9c6b-6516cb21dea5",
   "metadata": {},
   "outputs": [
    {
     "name": "stdout",
     "output_type": "stream",
     "text": [
      "B\n"
     ]
    }
   ],
   "source": [
    "if(1<0):\n",
    "    print(\"A\")\n",
    "elif(1>0):\n",
    "    print(\"B\")\n",
    "else:\n",
    "    print(\"C\")"
   ]
  },
  {
   "cell_type": "code",
   "execution_count": 13,
   "id": "d65174c8-7dd9-4773-9dee-f0010b38e2b8",
   "metadata": {},
   "outputs": [
    {
     "name": "stdout",
     "output_type": "stream",
     "text": [
      "a는 10보다 큽니다.\n"
     ]
    }
   ],
   "source": [
    "a = 12\n",
    "if(a < 5):\n",
    "    print(\"a는 5보다 작습니다.\")\n",
    "elif(a < 10):\n",
    "    print(\"a는 10보다 작습니다.\")\n",
    "else:\n",
    "    print(\"a는 10보다 큽니다.\")"
   ]
  },
  {
   "cell_type": "code",
   "execution_count": 14,
   "id": "e13fa422-8a20-4980-aaab-429d93183a41",
   "metadata": {},
   "outputs": [
    {
     "name": "stdout",
     "output_type": "stream",
     "text": [
      "a는 5보다 큽니다\n"
     ]
    }
   ],
   "source": [
    "if a > 5:\n",
    "    print(\"a는 5보다 큽니다\")"
   ]
  },
  {
   "cell_type": "markdown",
   "id": "1e7e5039-1854-4bae-aeed-1409c8308ba3",
   "metadata": {},
   "source": [
    "## 중첩 if문\n",
    "- if문은 중첩으로 사용이 가능\n",
    "- 하지만 코드의 가독성을 위해, 중첩 if문을 사용하는 것은 지양"
   ]
  },
  {
   "cell_type": "markdown",
   "id": "da44c360-ae7a-4434-813c-4061f05e7a98",
   "metadata": {},
   "source": [
    "### 사용자 입력받기\n",
    "- input()이라는 함수를 통해 사용자의 입력을 받을 수 있음\n",
    "- input()함수는 입력을 문자열로 받기 때문에, 숫자 입력을 받기 위해선 형변환이 필요\n",
    "- 괄호 안에 입력되는 문자열은 입력을 받을 때 보여진다."
   ]
  },
  {
   "cell_type": "code",
   "execution_count": 16,
   "id": "745be9ba-7e23-4fa3-9cbd-65c448293a18",
   "metadata": {},
   "outputs": [
    {
     "name": "stdin",
     "output_type": "stream",
     "text": [
      " sehyun\n"
     ]
    }
   ],
   "source": [
    "user_id = input()"
   ]
  },
  {
   "cell_type": "code",
   "execution_count": 17,
   "id": "b95ae1cb-13d2-405d-a6c3-3059eac87fe7",
   "metadata": {},
   "outputs": [
    {
     "data": {
      "text/plain": [
       "'sehyun'"
      ]
     },
     "execution_count": 17,
     "metadata": {},
     "output_type": "execute_result"
    }
   ],
   "source": [
    "user_id"
   ]
  },
  {
   "cell_type": "code",
   "execution_count": 18,
   "id": "98338907-b808-484a-9f66-bfe7132e683e",
   "metadata": {},
   "outputs": [
    {
     "data": {
      "text/plain": [
       "str"
      ]
     },
     "execution_count": 18,
     "metadata": {},
     "output_type": "execute_result"
    }
   ],
   "source": [
    "type(user_id)"
   ]
  },
  {
   "cell_type": "code",
   "execution_count": 19,
   "id": "f644a17d-5572-44bd-b2cc-00efa13f49e8",
   "metadata": {},
   "outputs": [
    {
     "name": "stdin",
     "output_type": "stream",
     "text": [
      "사용자의 나이를 입력해주세요 :  20\n"
     ]
    }
   ],
   "source": [
    "user_age = input(\"사용자의 나이를 입력해주세요 : \")"
   ]
  },
  {
   "cell_type": "code",
   "execution_count": 20,
   "id": "d01d47d1-a33b-41e7-a612-2e4a54ed0731",
   "metadata": {},
   "outputs": [
    {
     "data": {
      "text/plain": [
       "str"
      ]
     },
     "execution_count": 20,
     "metadata": {},
     "output_type": "execute_result"
    }
   ],
   "source": [
    "type(user_age)"
   ]
  },
  {
   "cell_type": "code",
   "execution_count": 21,
   "id": "4fd46054-77dd-4a4e-bf42-f466454a183e",
   "metadata": {},
   "outputs": [
    {
     "data": {
      "text/plain": [
       "int"
      ]
     },
     "execution_count": 21,
     "metadata": {},
     "output_type": "execute_result"
    }
   ],
   "source": [
    "type(int(user_age))"
   ]
  },
  {
   "cell_type": "code",
   "execution_count": 22,
   "id": "78bb6ec5-ff57-497a-8c69-14e90b3aa50e",
   "metadata": {},
   "outputs": [
    {
     "name": "stdin",
     "output_type": "stream",
     "text": [
      "사용자의 나이를 입력해주세요 :  30\n"
     ]
    }
   ],
   "source": [
    "user_age = int(input(\"사용자의 나이를 입력해주세요 : \"))"
   ]
  },
  {
   "cell_type": "code",
   "execution_count": 23,
   "id": "918b21a3-32d7-4280-954b-48c2f6ad43c8",
   "metadata": {},
   "outputs": [
    {
     "data": {
      "text/plain": [
       "int"
      ]
     },
     "execution_count": 23,
     "metadata": {},
     "output_type": "execute_result"
    }
   ],
   "source": [
    "type(user_age)"
   ]
  },
  {
   "cell_type": "code",
   "execution_count": 25,
   "id": "1dc88189-15e4-4e74-ba5c-ba8b67ca6f46",
   "metadata": {},
   "outputs": [
    {
     "name": "stdin",
     "output_type": "stream",
     "text": [
      "사용자의 나이 :  14\n"
     ]
    },
    {
     "name": "stdout",
     "output_type": "stream",
     "text": [
      "미성년자\n"
     ]
    }
   ],
   "source": [
    "user_age = int(input(\"사용자의 나이 : \"))\n",
    "\n",
    "if user_age >= 20:\n",
    "    print(\"성인\")\n",
    "else:\n",
    "    print(\"미성년자\")"
   ]
  },
  {
   "cell_type": "code",
   "execution_count": 38,
   "id": "eab4207d-d265-432c-8534-59055a152118",
   "metadata": {},
   "outputs": [
    {
     "name": "stdin",
     "output_type": "stream",
     "text": [
      " 70\n",
      " 5\n",
      " 1\n"
     ]
    },
    {
     "name": "stdout",
     "output_type": "stream",
     "text": [
      "70\n"
     ]
    }
   ],
   "source": [
    "a = int(input())\n",
    "b = int(input())\n",
    "c = int(input())\n",
    "\n",
    "num_list = [a, b, c]\n",
    "print(max(num_list))"
   ]
  },
  {
   "cell_type": "code",
   "execution_count": 48,
   "id": "8fcd4f2e-cdf1-474c-a4a6-fdca9222a099",
   "metadata": {},
   "outputs": [
    {
     "name": "stdin",
     "output_type": "stream",
     "text": [
      "주민등록번호 :  951242-4856214\n"
     ]
    },
    {
     "name": "stdout",
     "output_type": "stream",
     "text": [
      "여자\n"
     ]
    }
   ],
   "source": [
    "joomin = input(\"주민등록번호 : \")\n",
    "if int(joomin[7]) == 1 or int(joomin[7]) == 3:\n",
    "    print(\"남자\")\n",
    "elif int(joomin[7]) == 2 or int(joomin[7]) == 4:\n",
    "    print(\"여자\")\n",
    "else:\n",
    "    print(\"오류\")"
   ]
  },
  {
   "cell_type": "markdown",
   "id": "38730ab8-8065-4417-b347-de2fe1791faf",
   "metadata": {},
   "source": [
    "## 2. while문\n",
    "- while은 특정 조건을 만족했을 떄, 반복해서 수행하는 제어문\n",
    "- 조건이 만족한 횟수만큼 반복되고, 조건이 만족하지 않으면 중단\n",
    "- 무한루프에 빠질 수도 있고, 강제로 빠져나갈 수도 있음"
   ]
  },
  {
   "cell_type": "code",
   "execution_count": 52,
   "id": "140d02db-a7b4-4044-92a8-14908eda1b42",
   "metadata": {},
   "outputs": [
    {
     "name": "stdout",
     "output_type": "stream",
     "text": [
      "count는 5 입니다.\n",
      "count는 4 입니다.\n",
      "count는 3 입니다.\n",
      "count는 2 입니다.\n",
      "count는 1 입니다.\n"
     ]
    }
   ],
   "source": [
    "count = 5\n",
    "while count > 0:\n",
    "    print('count는', count, '입니다.')\n",
    "    count = count - 1"
   ]
  },
  {
   "cell_type": "code",
   "execution_count": 53,
   "id": "d97cfc64-9f84-458f-8447-73457f5bc299",
   "metadata": {},
   "outputs": [
    {
     "name": "stdout",
     "output_type": "stream",
     "text": [
      "\n",
      "    ####################\n",
      "    계산기 프로그램입니다.\n",
      "    \n",
      "    수행하실 연산을 번호로 입력해주세요.\n",
      "    \n",
      "    1. (+)\n",
      "    2. (-)\n",
      "    3. (*)\n",
      "    4. (/)\n",
      "    5. (종료)\n",
      "    \n"
     ]
    },
    {
     "name": "stdin",
     "output_type": "stream",
     "text": [
      "입력 :  1\n"
     ]
    },
    {
     "name": "stdout",
     "output_type": "stream",
     "text": [
      "덧셈을 수행합니다.\n",
      "\n",
      "    ####################\n",
      "    계산기 프로그램입니다.\n",
      "    \n",
      "    수행하실 연산을 번호로 입력해주세요.\n",
      "    \n",
      "    1. (+)\n",
      "    2. (-)\n",
      "    3. (*)\n",
      "    4. (/)\n",
      "    5. (종료)\n",
      "    \n"
     ]
    },
    {
     "name": "stdin",
     "output_type": "stream",
     "text": [
      "입력 :  2\n"
     ]
    },
    {
     "name": "stdout",
     "output_type": "stream",
     "text": [
      "뺄셈을 수행합니다\n",
      "\n",
      "    ####################\n",
      "    계산기 프로그램입니다.\n",
      "    \n",
      "    수행하실 연산을 번호로 입력해주세요.\n",
      "    \n",
      "    1. (+)\n",
      "    2. (-)\n",
      "    3. (*)\n",
      "    4. (/)\n",
      "    5. (종료)\n",
      "    \n"
     ]
    },
    {
     "name": "stdin",
     "output_type": "stream",
     "text": [
      "입력 :  3\n"
     ]
    },
    {
     "name": "stdout",
     "output_type": "stream",
     "text": [
      "곱셈을 수행합니다.\n",
      "\n",
      "    ####################\n",
      "    계산기 프로그램입니다.\n",
      "    \n",
      "    수행하실 연산을 번호로 입력해주세요.\n",
      "    \n",
      "    1. (+)\n",
      "    2. (-)\n",
      "    3. (*)\n",
      "    4. (/)\n",
      "    5. (종료)\n",
      "    \n"
     ]
    },
    {
     "name": "stdin",
     "output_type": "stream",
     "text": [
      "입력 :  4\n"
     ]
    },
    {
     "name": "stdout",
     "output_type": "stream",
     "text": [
      "나눗셈을 수행합니다\n",
      "\n",
      "    ####################\n",
      "    계산기 프로그램입니다.\n",
      "    \n",
      "    수행하실 연산을 번호로 입력해주세요.\n",
      "    \n",
      "    1. (+)\n",
      "    2. (-)\n",
      "    3. (*)\n",
      "    4. (/)\n",
      "    5. (종료)\n",
      "    \n"
     ]
    },
    {
     "name": "stdin",
     "output_type": "stream",
     "text": [
      "입력 :  5\n"
     ]
    },
    {
     "name": "stdout",
     "output_type": "stream",
     "text": [
      "연산을 종료합니다\n"
     ]
    }
   ],
   "source": [
    "action = 0\n",
    "while action != 5:\n",
    "    print(\"\"\"\n",
    "    ####################\n",
    "    계산기 프로그램입니다.\n",
    "    \n",
    "    수행하실 연산을 번호로 입력해주세요.\n",
    "    \n",
    "    1. (+)\n",
    "    2. (-)\n",
    "    3. (*)\n",
    "    4. (/)\n",
    "    5. (종료)\n",
    "    \"\"\")\n",
    "    \n",
    "    action = int(input(\"입력 : \"))\n",
    "    if(action == 1):\n",
    "        print('덧셈을 수행합니다.')\n",
    "    if(action == 2):\n",
    "        print('뺄셈을 수행합니다')\n",
    "    if(action == 3):\n",
    "        print('곱셈을 수행합니다.')\n",
    "    if(action == 4):\n",
    "        print('나눗셈을 수행합니다')\n",
    "    if(action == 5):\n",
    "        print('연산을 종료합니다')"
   ]
  },
  {
   "cell_type": "markdown",
   "id": "e8cd7687-b124-4d0b-87c2-0725f2a0f886",
   "metadata": {},
   "source": [
    "## 3. for문\n",
    "- 파이썬에서 가장 많이 사용되는 반복문\n",
    "- 리스트나 튜플, 문자열 등 연속되는 데이터의 첫번째 요소부터 마지막 요소까지 차례로 변수에 대입하는 반복문"
   ]
  },
  {
   "cell_type": "code",
   "execution_count": 54,
   "id": "37ef1c80-9987-44c7-8ea1-a2306737fecf",
   "metadata": {},
   "outputs": [],
   "source": [
    "for_lists = [1,2,3,4,5]"
   ]
  },
  {
   "cell_type": "code",
   "execution_count": 55,
   "id": "18f6ac8e-44f6-4a39-b963-0c5aa2840be8",
   "metadata": {},
   "outputs": [
    {
     "name": "stdout",
     "output_type": "stream",
     "text": [
      "1\n",
      "2\n",
      "3\n",
      "4\n",
      "5\n"
     ]
    }
   ],
   "source": [
    "for i in for_lists:\n",
    "    print(i)"
   ]
  },
  {
   "cell_type": "code",
   "execution_count": 56,
   "id": "8fbb52c9-7e02-490e-8903-d1960675eb84",
   "metadata": {},
   "outputs": [
    {
     "name": "stdout",
     "output_type": "stream",
     "text": [
      "A\n",
      "B\n",
      "C\n",
      "D\n",
      "E\n"
     ]
    }
   ],
   "source": [
    "for i in 'ABCDE':\n",
    "    print(i)"
   ]
  },
  {
   "cell_type": "markdown",
   "id": "73085f8a-50a2-4387-b12d-86dc061f58e6",
   "metadata": {},
   "source": [
    "- 리스트를 순회하며 실행하기 때문에, 리스트의 요소를 하나씩 넣어 처리하기 유용\n",
    "- 5명의 성별이 다음과 같이 리스트에 들어있을 때, genders = [0,0,1,1,1,].... 0이면 남자, 1이면 여자라고 출력"
   ]
  },
  {
   "cell_type": "code",
   "execution_count": 61,
   "id": "5faa0d3a-2a23-4880-9d0b-bbf269962792",
   "metadata": {},
   "outputs": [
    {
     "name": "stdout",
     "output_type": "stream",
     "text": [
      "0 남자\n",
      "0 남자\n",
      "0 남자\n",
      "1 여자\n",
      "1 여자\n"
     ]
    }
   ],
   "source": [
    "genders = [0,0,0,1,1]\n",
    "\n",
    "for i in genders:\n",
    "    if(i == 0):\n",
    "        print(i, \"남자\")\n",
    "    if(i == 1):\n",
    "        print(i, \"여자\")"
   ]
  },
  {
   "cell_type": "code",
   "execution_count": 62,
   "id": "9dd3ee7c-3344-4885-a54a-1f0604ff5d17",
   "metadata": {},
   "outputs": [
    {
     "name": "stdout",
     "output_type": "stream",
     "text": [
      "1 번째는 남자\n",
      "2 번째는 남자\n",
      "3 번째는 남자\n",
      "4 번째는 여자\n",
      "5 번째는 여자\n"
     ]
    }
   ],
   "source": [
    "index = 0\n",
    "genders = [0,0,0,1,1]\n",
    "\n",
    "for i in genders:\n",
    "    index = index + 1\n",
    "    if(i == 0):\n",
    "        print(index, \"번째는 남자\")\n",
    "    if(i == 1):\n",
    "        print(index, \"번째는 여자\")"
   ]
  },
  {
   "cell_type": "code",
   "execution_count": 65,
   "id": "9a108e87-2edb-425d-8e53-42eb083b3fdf",
   "metadata": {},
   "outputs": [
    {
     "name": "stdout",
     "output_type": "stream",
     "text": [
      "0\n",
      "0\n",
      "0\n",
      "1\n",
      "1\n"
     ]
    }
   ],
   "source": [
    "for i in range(len(genders)):\n",
    "    print(genders[i])"
   ]
  },
  {
   "cell_type": "code",
   "execution_count": 58,
   "id": "bd4cfae0-ed77-4c02-8546-57c1e3f52202",
   "metadata": {},
   "outputs": [
    {
     "name": "stdout",
     "output_type": "stream",
     "text": [
      "0\n",
      "1\n",
      "2\n",
      "3\n",
      "4\n",
      "5\n",
      "6\n",
      "7\n",
      "8\n",
      "9\n"
     ]
    }
   ],
   "source": [
    "for i in range(10):\n",
    "    print(i)"
   ]
  },
  {
   "cell_type": "code",
   "execution_count": 59,
   "id": "bb413d57-426f-436f-ada1-15f2eaf2f287",
   "metadata": {},
   "outputs": [
    {
     "data": {
      "text/plain": [
       "range(0, 10)"
      ]
     },
     "execution_count": 59,
     "metadata": {},
     "output_type": "execute_result"
    }
   ],
   "source": [
    "range(10)"
   ]
  },
  {
   "cell_type": "code",
   "execution_count": 60,
   "id": "a262b866-9557-4b4d-9d3e-c28e8084c795",
   "metadata": {},
   "outputs": [
    {
     "data": {
      "text/plain": [
       "range"
      ]
     },
     "execution_count": 60,
     "metadata": {},
     "output_type": "execute_result"
    }
   ],
   "source": [
    "type(range(0, 10))"
   ]
  },
  {
   "cell_type": "markdown",
   "id": "c8fc6b9e-8ef2-4f5d-a179-3e4819922334",
   "metadata": {},
   "source": [
    "## Quiz\n",
    "\n",
    "(1) for문을 이용하여 received_list에서 allowed_list에 존재하지 않는 목록을 뽑아 spam_mail이라는 리스트를 만드는 코드를 구현\n",
    "- received_list = ['tom', 'jenny', 'kyle', 'young', 'tami']\n",
    "- allowed_list = ['kyle', 'tami', 'jason']\n",
    "\n",
    "(2) 구구단 3단 중 결과가 홀수인 결과만을 출력하는 코드를 구현"
   ]
  },
  {
   "cell_type": "code",
   "execution_count": 66,
   "id": "afe17f9d-05ff-4f97-9970-f20214de944d",
   "metadata": {},
   "outputs": [
    {
     "data": {
      "text/plain": [
       "['tom', 'jenny', 'young']"
      ]
     },
     "execution_count": 66,
     "metadata": {},
     "output_type": "execute_result"
    }
   ],
   "source": [
    "received_list = ['tom', 'jenny', 'kyle', 'young', 'tami']\n",
    "allowed_list = ['kyle', 'tami', 'jason']\n",
    "spam_mail = []\n",
    "\n",
    "for i in received_list:\n",
    "    if i in allowed_list:\n",
    "        continue\n",
    "    else:\n",
    "        spam_mail.append(i)\n",
    "        \n",
    "spam_mail"
   ]
  },
  {
   "cell_type": "code",
   "execution_count": 69,
   "id": "b16b4136-f79e-421a-aaed-830c00e512e1",
   "metadata": {},
   "outputs": [
    {
     "name": "stdout",
     "output_type": "stream",
     "text": [
      "3 X 1 = 3\n",
      "3 X 3 = 9\n",
      "3 X 5 = 15\n",
      "3 X 7 = 21\n",
      "3 X 9 = 27\n"
     ]
    }
   ],
   "source": [
    "for i in range(1,10):\n",
    "    if i % 2 != 0:\n",
    "        print(3, \"X\", i, \"=\", 3*i)"
   ]
  },
  {
   "cell_type": "code",
   "execution_count": null,
   "id": "199e1dc0-298d-4954-be27-398e5907c762",
   "metadata": {},
   "outputs": [],
   "source": []
  }
 ],
 "metadata": {
  "kernelspec": {
   "display_name": "Python 3",
   "language": "python",
   "name": "python3"
  },
  "language_info": {
   "codemirror_mode": {
    "name": "ipython",
    "version": 3
   },
   "file_extension": ".py",
   "mimetype": "text/x-python",
   "name": "python",
   "nbconvert_exporter": "python",
   "pygments_lexer": "ipython3",
   "version": "3.8.8"
  }
 },
 "nbformat": 4,
 "nbformat_minor": 5
}
