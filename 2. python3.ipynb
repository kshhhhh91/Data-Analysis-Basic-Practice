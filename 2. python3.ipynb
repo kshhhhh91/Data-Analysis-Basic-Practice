{
 "cells": [
  {
   "cell_type": "markdown",
   "id": "38b89e36-0609-41cf-bb17-75b6033725d3",
   "metadata": {},
   "source": [
    "# 함수\n",
    "- 프로그래밍에서 똑같은 내용을 반복적으로 수행할 때, 함수를 사용\n",
    "- 함수는 입력값과 결과값을 고려하여 작성\n",
    "- 함수화를 통해 흐름을 보기 쉽게 정리할 수 있음\n",
    "- 흐름이 정리되면 오류찾기도 쉽고, 다른 사람이 코드를 이해하기도 쉽다."
   ]
  },
  {
   "cell_type": "code",
   "execution_count": 1,
   "id": "3f2096d8-4a5a-4be0-b622-e0602a39852b",
   "metadata": {},
   "outputs": [],
   "source": [
    "def test():\n",
    "    print(\"이것은 테스트함수입니다.\")"
   ]
  },
  {
   "cell_type": "code",
   "execution_count": 2,
   "id": "d4597a10-898a-4f1c-a458-9a9c142ed007",
   "metadata": {},
   "outputs": [
    {
     "name": "stdout",
     "output_type": "stream",
     "text": [
      "이것은 테스트함수입니다.\n"
     ]
    }
   ],
   "source": [
    "test()"
   ]
  },
  {
   "cell_type": "code",
   "execution_count": 3,
   "id": "dde88d2a-06aa-496d-bc07-f57cbeaf16b6",
   "metadata": {},
   "outputs": [],
   "source": [
    "def add(a, b):\n",
    "    return a+b"
   ]
  },
  {
   "cell_type": "code",
   "execution_count": 4,
   "id": "570a23f1-9bd0-4c40-a47a-7b256616006a",
   "metadata": {},
   "outputs": [
    {
     "data": {
      "text/plain": [
       "4"
      ]
     },
     "execution_count": 4,
     "metadata": {},
     "output_type": "execute_result"
    }
   ],
   "source": [
    "add(1,3)"
   ]
  },
  {
   "cell_type": "markdown",
   "id": "1fa71ab6-d302-4aed-a339-bbcb33c0bded",
   "metadata": {},
   "source": [
    "#### 가변 매개변수"
   ]
  },
  {
   "cell_type": "code",
   "execution_count": 5,
   "id": "b4ed38ad-4af0-4706-8b01-6ba7ea8868bf",
   "metadata": {},
   "outputs": [],
   "source": [
    "def add_many(*args):\n",
    "    print(args)"
   ]
  },
  {
   "cell_type": "code",
   "execution_count": 6,
   "id": "cc07faca-c892-42eb-86d5-64d694546ad0",
   "metadata": {},
   "outputs": [
    {
     "name": "stdout",
     "output_type": "stream",
     "text": [
      "(1, 5, 6, 4)\n"
     ]
    }
   ],
   "source": [
    "add_many(1,5,6,4)"
   ]
  },
  {
   "cell_type": "code",
   "execution_count": 7,
   "id": "95d579a6-4f51-4d89-9bad-3ab57ba766e7",
   "metadata": {},
   "outputs": [],
   "source": [
    "def add_many(*args):\n",
    "    result = 0\n",
    "    for i in args:\n",
    "        result = result + i\n",
    "    return result"
   ]
  },
  {
   "cell_type": "code",
   "execution_count": 8,
   "id": "3c5c346f-cd64-4dbe-8c46-a57867e0e233",
   "metadata": {},
   "outputs": [
    {
     "data": {
      "text/plain": [
       "10"
      ]
     },
     "execution_count": 8,
     "metadata": {},
     "output_type": "execute_result"
    }
   ],
   "source": [
    "add_many(1,2,3,4)"
   ]
  },
  {
   "cell_type": "code",
   "execution_count": 10,
   "id": "b7bc642a-4991-4165-a24a-217069f72957",
   "metadata": {},
   "outputs": [],
   "source": [
    "def calculator(oper, *args):\n",
    "    if(oper == \"+\"):\n",
    "        result = 0\n",
    "    \n",
    "    elif(oper == \"*\"):\n",
    "        result = 1\n",
    "    \n",
    "    for i in args:\n",
    "        result = eval(f'{result} {oper} {i}')\n",
    "    \n",
    "\n",
    "    return result"
   ]
  },
  {
   "cell_type": "code",
   "execution_count": 11,
   "id": "1d753032-070f-4fc6-a48e-bdaec96dad89",
   "metadata": {},
   "outputs": [
    {
     "data": {
      "text/plain": [
       "120"
      ]
     },
     "execution_count": 11,
     "metadata": {},
     "output_type": "execute_result"
    }
   ],
   "source": [
    "calculator(\"*\", 1,2,3,4,5)"
   ]
  },
  {
   "cell_type": "code",
   "execution_count": 14,
   "id": "30e0b523-bd62-44dd-af9e-50824de36e2f",
   "metadata": {},
   "outputs": [
    {
     "data": {
      "text/plain": [
       "15"
      ]
     },
     "execution_count": 14,
     "metadata": {},
     "output_type": "execute_result"
    }
   ],
   "source": [
    "calculator(\"+\", 1,2,3,4,5)"
   ]
  },
  {
   "cell_type": "code",
   "execution_count": 12,
   "id": "6d20aa3e-fa06-4881-bc64-c1a70c09deeb",
   "metadata": {},
   "outputs": [
    {
     "data": {
      "text/plain": [
       "3"
      ]
     },
     "execution_count": 12,
     "metadata": {},
     "output_type": "execute_result"
    }
   ],
   "source": [
    "eval('3*1')"
   ]
  },
  {
   "cell_type": "code",
   "execution_count": 13,
   "id": "dd705a2d-aab8-4191-b262-aaabdd6f3051",
   "metadata": {},
   "outputs": [
    {
     "data": {
      "text/plain": [
       "2"
      ]
     },
     "execution_count": 13,
     "metadata": {},
     "output_type": "execute_result"
    }
   ],
   "source": [
    "eval('7-8+3')"
   ]
  },
  {
   "cell_type": "markdown",
   "id": "3bb3c4d1-1d4f-4340-8d6a-4de01ae59b54",
   "metadata": {},
   "source": [
    "## Quiz\n",
    "(1) \"안녕하세요\"를 출력하는 함수를 정의하고, 함수를 호출하여 \"안녕하세요\"를 10번 출력하세요.  \n",
    "(2) 다음 코드의 실행결과를 예측해보세요. (`는 영문으로 바꾸고 ₩를 눌렀을 때 나옴)\n",
    "```python\n",
    "def test1():\n",
    "    print('A')\n",
    "\n",
    "def test2():\n",
    "    test1()\n",
    "    print('B')\n",
    "    \n",
    "print('C')\n",
    "test2()\n",
    "```\n",
    "(3) 인자를 숫자 n을 전달받아, \"안녕하세요\"를 n회 출력하는 함수를 구현하세요."
   ]
  },
  {
   "cell_type": "code",
   "execution_count": 17,
   "id": "dddcc14c-6827-4210-a1bf-92919ce80326",
   "metadata": {},
   "outputs": [],
   "source": [
    "def hello():\n",
    "        print(\"안녕하세요\")"
   ]
  },
  {
   "cell_type": "code",
   "execution_count": 20,
   "id": "9464a8f3-cea0-457f-b97b-7769fa02c7fe",
   "metadata": {},
   "outputs": [
    {
     "name": "stdout",
     "output_type": "stream",
     "text": [
      "안녕하세요\n",
      "안녕하세요\n",
      "안녕하세요\n",
      "안녕하세요\n",
      "안녕하세요\n",
      "안녕하세요\n",
      "안녕하세요\n",
      "안녕하세요\n",
      "안녕하세요\n",
      "안녕하세요\n"
     ]
    }
   ],
   "source": [
    "for i in range(10):\n",
    "    hello()"
   ]
  },
  {
   "cell_type": "code",
   "execution_count": 21,
   "id": "eb84632a-29b8-4754-bf09-f6d45e83d855",
   "metadata": {},
   "outputs": [],
   "source": [
    "def hello_n(n):\n",
    "    for i in range(n):\n",
    "        print(\"안녕하세요\")"
   ]
  },
  {
   "cell_type": "code",
   "execution_count": 23,
   "id": "5357a534-77d5-4050-8a8c-6f234bf18537",
   "metadata": {},
   "outputs": [
    {
     "name": "stdout",
     "output_type": "stream",
     "text": [
      "안녕하세요\n",
      "안녕하세요\n",
      "안녕하세요\n",
      "안녕하세요\n",
      "안녕하세요\n",
      "안녕하세요\n",
      "안녕하세요\n",
      "안녕하세요\n"
     ]
    }
   ],
   "source": [
    "hello_n(8)"
   ]
  },
  {
   "cell_type": "code",
   "execution_count": null,
   "id": "eed5403e-2cbe-450f-ac28-13a42ff411c4",
   "metadata": {},
   "outputs": [],
   "source": []
  }
 ],
 "metadata": {
  "kernelspec": {
   "display_name": "Python 3",
   "language": "python",
   "name": "python3"
  },
  "language_info": {
   "codemirror_mode": {
    "name": "ipython",
    "version": 3
   },
   "file_extension": ".py",
   "mimetype": "text/x-python",
   "name": "python",
   "nbconvert_exporter": "python",
   "pygments_lexer": "ipython3",
   "version": "3.8.8"
  }
 },
 "nbformat": 4,
 "nbformat_minor": 5
}
