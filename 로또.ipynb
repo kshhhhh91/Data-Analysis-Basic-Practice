{
 "cells": [
  {
   "cell_type": "markdown",
   "id": "73a81416-ca74-41a9-8a58-7130fdfeb642",
   "metadata": {},
   "source": [
    "# 로또 데이터 크롤링하기\n",
    "\n",
    "1000부터 1040회까지의 당첨번호와 보너스 번호를 가져오세요."
   ]
  },
  {
   "cell_type": "code",
   "execution_count": 1,
   "id": "62dfb1d4-bfdf-4f47-9009-b869a12ff3ab",
   "metadata": {},
   "outputs": [],
   "source": [
    "import pandas as pd\n",
    "from bs4 import BeautifulSoup\n",
    "from urllib.request import Request, urlopen"
   ]
  },
  {
   "cell_type": "code",
   "execution_count": 3,
   "id": "de19a5c7-0501-4a30-a4be-6b1fd6cfc79b",
   "metadata": {},
   "outputs": [],
   "source": [
    "url = 'https://dhlottery.co.kr/gameResult.do?method=byWin'"
   ]
  },
  {
   "cell_type": "code",
   "execution_count": 4,
   "id": "e9d53691-0452-4fbd-8080-4d551282fff5",
   "metadata": {},
   "outputs": [
    {
     "data": {
      "text/plain": [
       "200"
      ]
     },
     "execution_count": 4,
     "metadata": {},
     "output_type": "execute_result"
    }
   ],
   "source": [
    "request = Request(url)\n",
    "response = urlopen(request)\n",
    "response.status"
   ]
  },
  {
   "cell_type": "code",
   "execution_count": 5,
   "id": "7f7b6522-4142-4cac-a07b-aee0e58ed38f",
   "metadata": {},
   "outputs": [],
   "source": [
    "html = response.read()"
   ]
  },
  {
   "cell_type": "code",
   "execution_count": 6,
   "id": "20b68550-130f-4234-af3e-59428f6e49d0",
   "metadata": {},
   "outputs": [],
   "source": [
    "soup = BeautifulSoup(html, 'html.parser')"
   ]
  },
  {
   "cell_type": "code",
   "execution_count": 19,
   "id": "73d9c94d-c38c-4fbc-844c-bb74734dd416",
   "metadata": {},
   "outputs": [
    {
     "data": {
      "text/plain": [
       "'8'"
      ]
     },
     "execution_count": 19,
     "metadata": {},
     "output_type": "execute_result"
    }
   ],
   "source": [
    "soup.select('#article > div:nth-child(2) > div > div.win_result > div > div.num.win > p > span.ball_645.lrg.ball1')[0].text"
   ]
  },
  {
   "cell_type": "code",
   "execution_count": 36,
   "id": "c99ce327-b91b-41ac-9677-f501dd683742",
   "metadata": {},
   "outputs": [
    {
     "data": {
      "text/plain": [
       "['',\n",
       " '1040회 당첨결과',\n",
       " '(2022년 11월 05일 추첨)',\n",
       " '',\n",
       " '',\n",
       " '당첨번호',\n",
       " '',\n",
       " '8',\n",
       " '16',\n",
       " '26',\n",
       " '29',\n",
       " '31',\n",
       " '36',\n",
       " '',\n",
       " '',\n",
       " '',\n",
       " '보너스',\n",
       " '11',\n",
       " '',\n",
       " '',\n",
       " '']"
      ]
     },
     "execution_count": 36,
     "metadata": {},
     "output_type": "execute_result"
    }
   ],
   "source": [
    "soup.select('#article > div:nth-child(2) > div > div.win_result')[0].text.split('\\n')"
   ]
  },
  {
   "cell_type": "code",
   "execution_count": 29,
   "id": "de05e485-1dca-47d8-b66b-8b4fd0d4825b",
   "metadata": {},
   "outputs": [
    {
     "data": {
      "text/plain": [
       "['8', '16', '26', '29', '31', '36']"
      ]
     },
     "execution_count": 29,
     "metadata": {},
     "output_type": "execute_result"
    }
   ],
   "source": [
    "soup.select('#article > div:nth-child(2) > div > div.win_result > div')[0].text.split('\\n')[4:10]"
   ]
  },
  {
   "cell_type": "code",
   "execution_count": 31,
   "id": "21974f59-4e4b-4383-acc2-43731b1a46f5",
   "metadata": {},
   "outputs": [
    {
     "data": {
      "text/plain": [
       "'11'"
      ]
     },
     "execution_count": 31,
     "metadata": {},
     "output_type": "execute_result"
    }
   ],
   "source": [
    "soup.select('#article > div:nth-child(2) > div > div.win_result > div')[0].text.split('\\n')[14]"
   ]
  },
  {
   "cell_type": "code",
   "execution_count": 38,
   "id": "acb03b48-eee3-4d84-9ccb-a681b684ec5c",
   "metadata": {},
   "outputs": [
    {
     "data": {
      "text/plain": [
       "[<span class=\"ball_645 lrg ball1\">8</span>,\n",
       " <span class=\"ball_645 lrg ball2\">16</span>,\n",
       " <span class=\"ball_645 lrg ball3\">26</span>,\n",
       " <span class=\"ball_645 lrg ball3\">29</span>,\n",
       " <span class=\"ball_645 lrg ball4\">31</span>,\n",
       " <span class=\"ball_645 lrg ball4\">36</span>]"
      ]
     },
     "execution_count": 38,
     "metadata": {},
     "output_type": "execute_result"
    }
   ],
   "source": [
    "url = 'https://dhlottery.co.kr/gameResult.do?method=byWin'\n",
    "request = Request(url)\n",
    "response = urlopen(request)\n",
    "html = response.read()\n",
    "soup = BeautifulSoup(html, 'html.parser')\n",
    "\n",
    "soup.select('#article > div:nth-child(2) > div > div.win_result > div > div.num.win > p > span') # p태그에서 가져온뒤 span을 넣어줌"
   ]
  },
  {
   "cell_type": "code",
   "execution_count": 39,
   "id": "679e5b9d-35c9-4eaf-a4eb-441376307114",
   "metadata": {},
   "outputs": [],
   "source": [
    "ball = soup.select('#article > div:nth-child(2) > div > div.win_result > div > div.num.win > p > span')"
   ]
  },
  {
   "cell_type": "code",
   "execution_count": 40,
   "id": "db71b0d8-dd26-476e-a7a1-6ff06f66a61b",
   "metadata": {},
   "outputs": [
    {
     "name": "stdout",
     "output_type": "stream",
     "text": [
      "8\n",
      "16\n",
      "26\n",
      "29\n",
      "31\n",
      "36\n"
     ]
    }
   ],
   "source": [
    "for i in ball:\n",
    "    print(i.text)"
   ]
  },
  {
   "cell_type": "code",
   "execution_count": 58,
   "id": "ea223534-43f3-41bf-b1f0-b3eaa4d97b36",
   "metadata": {},
   "outputs": [
    {
     "data": {
      "text/plain": [
       "'11'"
      ]
     },
     "execution_count": 58,
     "metadata": {},
     "output_type": "execute_result"
    }
   ],
   "source": [
    "soup.select('#article > div:nth-child(2) > div > div.win_result > div > div.num.bonus > p > span')[0].text"
   ]
  },
  {
   "cell_type": "code",
   "execution_count": null,
   "id": "e861aea2-b1c4-4c34-852b-06277606d143",
   "metadata": {},
   "outputs": [],
   "source": [
    "numbers = []\n",
    "bonus = []\n",
    "\n",
    "for i in range(1000, 1041):\n",
    "    six = []\n",
    "    one = []\n",
    "    url = 'https://dhlottery.co.kr/gameResult.do?method=byWin&drwNo=' + str[i]\n",
    "    request = Request(url)\n",
    "    response = urlopen(request)\n",
    "    html = response.read()\n",
    "    soup = BeautifulSoup(html, 'html.parser')\n",
    "    ball = soup.select('#article > div:nth-child(2) > div > div.win_result > div > div.num.win > p > span')\n",
    "    for j in ball:\n",
    "        six.append(j.text)\n",
    "    bonumber = soup.select('#article > div:nth-child(2) > div > div.win_result > div > div.num.bonus > p > span')"
   ]
  }
 ],
 "metadata": {
  "kernelspec": {
   "display_name": "Python 3 (ipykernel)",
   "language": "python",
   "name": "python3"
  },
  "language_info": {
   "codemirror_mode": {
    "name": "ipython",
    "version": 3
   },
   "file_extension": ".py",
   "mimetype": "text/x-python",
   "name": "python",
   "nbconvert_exporter": "python",
   "pygments_lexer": "ipython3",
   "version": "3.9.12"
  }
 },
 "nbformat": 4,
 "nbformat_minor": 5
}
